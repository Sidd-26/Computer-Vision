{
 "cells": [
  {
   "cell_type": "markdown",
   "metadata": {},
   "source": [
    "### Neural Network"
   ]
  },
  {
   "cell_type": "code",
   "execution_count": 1,
   "metadata": {
    "colab": {},
    "colab_type": "code",
    "id": "B_A-rqjRfJ_Z"
   },
   "outputs": [],
   "source": [
    "#Importing required libraries\n",
    "import numpy as np\n",
    "import os\n",
    "#%tensorflow_version 1.x\n",
    "from keras.models import Sequential\n",
    "from keras.layers import Dense, Dropout, Flatten\n",
    "from keras.layers.convolutional import MaxPooling2D, Conv2D\n",
    "from keras.optimizers import Adam\n",
    "from keras.callbacks import ModelCheckpoint"
   ]
  },
  {
   "cell_type": "code",
   "execution_count": 2,
   "metadata": {
    "colab": {
     "base_uri": "https://localhost:8080/",
     "height": 35
    },
    "colab_type": "code",
    "id": "7je53xJmfQEd",
    "outputId": "337c0fe8-40f2-46fb-9f3b-2d8ab9b734ab"
   },
   "outputs": [
    {
     "name": "stdout",
     "output_type": "stream",
     "text": [
      "Drive already mounted at /content/drive; to attempt to forcibly remount, call drive.mount(\"/content/drive\", force_remount=True).\n"
     ]
    }
   ],
   "source": [
    "#Mounting google drive into google collaboratory\n",
    "from google.colab import drive\n",
    "drive.mount('/content/drive')"
   ]
  },
  {
   "cell_type": "code",
   "execution_count": 3,
   "metadata": {
    "colab": {},
    "colab_type": "code",
    "id": "5h8nlmE7fJ_h"
   },
   "outputs": [],
   "source": [
    "#Changing the directory\n",
    "os.chdir(\"/content/drive/My Drive/Colab Notebooks/Computer Vision/Projects/Face Mask Detection/Data\")"
   ]
  },
  {
   "cell_type": "code",
   "execution_count": 4,
   "metadata": {
    "colab": {},
    "colab_type": "code",
    "id": "6LHYnTvUfJ_m"
   },
   "outputs": [],
   "source": [
    "#Loading the data\n",
    "train_data = np.load(\"train_data.npy\")\n",
    "val_data = np.load(\"validation_data.npy\")\n",
    "test_data = np.load(\"test_data.npy\")\n",
    "\n",
    "#Loading the labels\n",
    "train_labels = np.load(\"train_labels.npy\")\n",
    "val_labels = np.load(\"validation_labels.npy\")\n",
    "test_labels = np.load(\"test_labels.npy\")"
   ]
  },
  {
   "cell_type": "code",
   "execution_count": 5,
   "metadata": {
    "colab": {
     "base_uri": "https://localhost:8080/",
     "height": 555
    },
    "colab_type": "code",
    "id": "8N-QulqWfJ_u",
    "outputId": "df80e9f9-3ec2-4ddb-a708-b032bb78e982"
   },
   "outputs": [
    {
     "name": "stdout",
     "output_type": "stream",
     "text": [
      "Model: \"sequential\"\n",
      "_________________________________________________________________\n",
      "Layer (type)                 Output Shape              Param #   \n",
      "=================================================================\n",
      "conv2d (Conv2D)              (None, 96, 96, 240)       6240      \n",
      "_________________________________________________________________\n",
      "conv2d_1 (Conv2D)            (None, 92, 92, 240)       1440240   \n",
      "_________________________________________________________________\n",
      "max_pooling2d (MaxPooling2D) (None, 46, 46, 240)       0         \n",
      "_________________________________________________________________\n",
      "dropout (Dropout)            (None, 46, 46, 240)       0         \n",
      "_________________________________________________________________\n",
      "conv2d_2 (Conv2D)            (None, 44, 44, 120)       259320    \n",
      "_________________________________________________________________\n",
      "conv2d_3 (Conv2D)            (None, 42, 42, 120)       129720    \n",
      "_________________________________________________________________\n",
      "max_pooling2d_1 (MaxPooling2 (None, 21, 21, 120)       0         \n",
      "_________________________________________________________________\n",
      "flatten (Flatten)            (None, 52920)             0         \n",
      "_________________________________________________________________\n",
      "dense (Dense)                (None, 500)               26460500  \n",
      "_________________________________________________________________\n",
      "dropout_1 (Dropout)          (None, 500)               0         \n",
      "_________________________________________________________________\n",
      "dense_1 (Dense)              (None, 2)                 1002      \n",
      "=================================================================\n",
      "Total params: 28,297,022\n",
      "Trainable params: 28,297,022\n",
      "Non-trainable params: 0\n",
      "_________________________________________________________________\n",
      "None\n"
     ]
    }
   ],
   "source": [
    "#Creating a Neural Network\n",
    "def Neural_Net(lr, data = train_data):\n",
    "\n",
    "    #Creating a sequential model\n",
    "    model = Sequential()\n",
    "\n",
    "    #Adding a convolutional layer with 240 filters and a 5x5 kernel size with relu activation function\n",
    "    model.add(Conv2D(filters = 240, kernel_size = (5,5), input_shape = train_data.shape[1:] , activation = 'relu'))\n",
    "\n",
    "    #Adding a convolutional layer with 240 filters and a 5x5 kernel size with relu activation function\n",
    "    model.add(Conv2D(filters = 240, kernel_size = (5,5), activation = 'relu'))\n",
    "    \n",
    "    #Adding a pooling layer with a 2x2 pool size\n",
    "    model.add(MaxPooling2D(pool_size = (2,2)))\n",
    "    \n",
    "    #Adding a dropout layer\n",
    "    model.add(Dropout(0.5))\n",
    "    \n",
    "    #Adding a convolutional layer with 120 filters and a 3x3 kernel size with relu activation function\n",
    "    model.add(Conv2D(filters = 120, kernel_size = (3,3), activation = 'relu'))\n",
    "    \n",
    "    #Adding a convolutional layer with 120 filters and a 3x3 kernel size with relu activation function\n",
    "    model.add(Conv2D(filters = 120, kernel_size = (3,3), activation = 'relu'))\n",
    "    \n",
    "    #Adding a pooling layer with a 2x2 pool size\n",
    "    model.add(MaxPooling2D(pool_size = (2,2)))\n",
    "    \n",
    "    #Flattening the model\n",
    "    model.add(Flatten())\n",
    "    \n",
    "    #Adding a fully connected dense layer with 500 nodes with relu activation function\n",
    "    model.add(Dense(500, activation = 'relu'))\n",
    "    \n",
    "    #Adding a dropout layer\n",
    "    model.add(Dropout(0.5))\n",
    "    \n",
    "    #Adding the output layer with 2 nodes with softmax activation function\n",
    "    model.add(Dense(2, activation = 'softmax'))\n",
    "    \n",
    "    #Compiling the model\n",
    "    model.compile(optimizer = Adam(lr = lr), loss = 'categorical_crossentropy', metrics = ['accuracy'])\n",
    "    \n",
    "    #Returning the model\n",
    "    return model\n",
    "\n",
    "#Creating the model\n",
    "model = Neural_Net(lr = 0.001)\n",
    "\n",
    "#Displaying the summary of the model\n",
    "print(model.summary())"
   ]
  },
  {
   "cell_type": "code",
   "execution_count": 6,
   "metadata": {
    "colab": {
     "base_uri": "https://localhost:8080/",
     "height": 644
    },
    "colab_type": "code",
    "id": "cUcLv2d2fJ_1",
    "outputId": "6994065f-cd03-49e9-c83f-adb66d1f601f"
   },
   "outputs": [
    {
     "name": "stdout",
     "output_type": "stream",
     "text": [
      "Epoch 1/10\n",
      " 2/41 [>.............................] - ETA: 1s - loss: 1.2798 - accuracy: 0.4688WARNING:tensorflow:Callbacks method `on_train_batch_end` is slow compared to the batch time (batch time: 0.0352s vs `on_train_batch_end` time: 0.0571s). Check your callbacks.\n",
      "41/41 [==============================] - ETA: 0s - loss: 0.8471 - accuracy: 0.5429WARNING:tensorflow:From /usr/local/lib/python3.6/dist-packages/tensorflow/python/training/tracking/tracking.py:111: Model.state_updates (from tensorflow.python.keras.engine.training) is deprecated and will be removed in a future version.\n",
      "Instructions for updating:\n",
      "This property should not be used in TensorFlow 2.0, as updates are applied automatically.\n",
      "WARNING:tensorflow:From /usr/local/lib/python3.6/dist-packages/tensorflow/python/training/tracking/tracking.py:111: Layer.updates (from tensorflow.python.keras.engine.base_layer) is deprecated and will be removed in a future version.\n",
      "Instructions for updating:\n",
      "This property should not be used in TensorFlow 2.0, as updates are applied automatically.\n",
      "INFO:tensorflow:Assets written to: model-001.model/assets\n",
      "41/41 [==============================] - 8s 187ms/step - loss: 0.8471 - accuracy: 0.5429 - val_loss: 0.6180 - val_accuracy: 0.7958\n",
      "Epoch 2/10\n",
      "41/41 [==============================] - ETA: 0s - loss: 0.5298 - accuracy: 0.7519INFO:tensorflow:Assets written to: model-002.model/assets\n",
      "41/41 [==============================] - 6s 145ms/step - loss: 0.5298 - accuracy: 0.7519 - val_loss: 0.5173 - val_accuracy: 0.7324\n",
      "Epoch 3/10\n",
      "41/41 [==============================] - ETA: 0s - loss: 0.3424 - accuracy: 0.8683INFO:tensorflow:Assets written to: model-003.model/assets\n",
      "41/41 [==============================] - 7s 175ms/step - loss: 0.3424 - accuracy: 0.8683 - val_loss: 0.1619 - val_accuracy: 0.9507\n",
      "Epoch 4/10\n",
      "41/41 [==============================] - ETA: 0s - loss: 0.3625 - accuracy: 0.8645INFO:tensorflow:Assets written to: model-004.model/assets\n",
      "41/41 [==============================] - 6s 151ms/step - loss: 0.3625 - accuracy: 0.8645 - val_loss: 0.1613 - val_accuracy: 0.9577\n",
      "Epoch 5/10\n",
      "41/41 [==============================] - ETA: 0s - loss: 0.2746 - accuracy: 0.8974INFO:tensorflow:Assets written to: model-005.model/assets\n",
      "41/41 [==============================] - 6s 146ms/step - loss: 0.2746 - accuracy: 0.8974 - val_loss: 0.1266 - val_accuracy: 0.9366\n",
      "Epoch 6/10\n",
      "41/41 [==============================] - 4s 94ms/step - loss: 0.2354 - accuracy: 0.9127 - val_loss: 0.2926 - val_accuracy: 0.8944\n",
      "Epoch 7/10\n",
      "41/41 [==============================] - 4s 95ms/step - loss: 0.2014 - accuracy: 0.9257 - val_loss: 0.1383 - val_accuracy: 0.9437\n",
      "Epoch 8/10\n",
      "41/41 [==============================] - ETA: 0s - loss: 0.1901 - accuracy: 0.9257INFO:tensorflow:Assets written to: model-008.model/assets\n",
      "41/41 [==============================] - 7s 165ms/step - loss: 0.1901 - accuracy: 0.9257 - val_loss: 0.0999 - val_accuracy: 0.9718\n",
      "Epoch 9/10\n",
      "41/41 [==============================] - ETA: 0s - loss: 0.1699 - accuracy: 0.9433INFO:tensorflow:Assets written to: model-009.model/assets\n",
      "41/41 [==============================] - 6s 145ms/step - loss: 0.1699 - accuracy: 0.9433 - val_loss: 0.0953 - val_accuracy: 0.9507\n",
      "Epoch 10/10\n",
      "41/41 [==============================] - 4s 94ms/step - loss: 0.1545 - accuracy: 0.9426 - val_loss: 0.1620 - val_accuracy: 0.9366\n"
     ]
    },
    {
     "data": {
      "text/plain": [
       "<tensorflow.python.keras.callbacks.History at 0x7f79d031af28>"
      ]
     },
     "execution_count": 6,
     "metadata": {
      "tags": []
     },
     "output_type": "execute_result"
    }
   ],
   "source": [
    "#Creating a checkpoint to save the lowest validation loss\n",
    "checkpoint = ModelCheckpoint('model-{epoch:03d}.model', monitor = 'val_loss', verbose = 0, save_best_only = True, mode = 'auto')\n",
    "\n",
    "#Fitting the training and validation data to the model\n",
    "model.fit(x = train_data, y = train_labels, epochs = 10, callbacks = [checkpoint], validation_data = (val_data, val_labels))"
   ]
  },
  {
   "cell_type": "code",
   "execution_count": 7,
   "metadata": {
    "colab": {
     "base_uri": "https://localhost:8080/",
     "height": 52
    },
    "colab_type": "code",
    "id": "_SgB8pU2gpo_",
    "outputId": "6a9822a4-c18e-4d78-e644-6439b293856c"
   },
   "outputs": [
    {
     "name": "stdout",
     "output_type": "stream",
     "text": [
      "7/7 [==============================] - 0s 41ms/step - loss: 0.1885 - accuracy: 0.9536\n",
      "Accuracy of the model is 95.36082744598389%\n"
     ]
    }
   ],
   "source": [
    "#Evaluating the model\n",
    "score = model.evaluate(test_data, test_labels)\n",
    "\n",
    "#Printing the accuracy of the model\n",
    "print(f\"Accuracy of the model is {score[1] * 100}%\")"
   ]
  },
  {
   "cell_type": "code",
   "execution_count": 8,
   "metadata": {
    "colab": {},
    "colab_type": "code",
    "id": "fufd9lDXj2u1"
   },
   "outputs": [],
   "source": [
    "#Saving the model\n",
    "model.save(\"neural_net_model.h5\")"
   ]
  }
 ],
 "metadata": {
  "accelerator": "GPU",
  "colab": {
   "name": "neural_net.ipynb",
   "provenance": []
  },
  "kernelspec": {
   "display_name": "Python 3",
   "language": "python",
   "name": "python3"
  },
  "language_info": {
   "codemirror_mode": {
    "name": "ipython",
    "version": 3
   },
   "file_extension": ".py",
   "mimetype": "text/x-python",
   "name": "python",
   "nbconvert_exporter": "python",
   "pygments_lexer": "ipython3",
   "version": "3.7.6"
  }
 },
 "nbformat": 4,
 "nbformat_minor": 1
}
