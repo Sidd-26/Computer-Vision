{
 "cells": [
  {
   "cell_type": "markdown",
   "metadata": {},
   "source": [
    "### Face Mask Detection"
   ]
  },
  {
   "cell_type": "markdown",
   "metadata": {},
   "source": [
    "##### Referred https://www.youtube.com/watch?v=d3DJqucOq4g and https://github.com/aieml/face-mask-detection-keras"
   ]
  },
  {
   "cell_type": "code",
   "execution_count": 1,
   "metadata": {},
   "outputs": [],
   "source": [
    "#Importing required libraries\n",
    "import numpy as np\n",
    "import cv2\n",
    "import os\n",
    "from tensorflow.keras.models import load_model"
   ]
  },
  {
   "cell_type": "code",
   "execution_count": 2,
   "metadata": {},
   "outputs": [],
   "source": [
    "#Changing the directory\n",
    "os.chdir(\"C:/Users/Siddhesh/Desktop/Siddhesh/Projects/Face Mask Detection/Project/Data\")"
   ]
  },
  {
   "cell_type": "code",
   "execution_count": 3,
   "metadata": {},
   "outputs": [],
   "source": [
    "#Loading the Neural Network model trained earlier\n",
    "model = load_model(\"model-009.model\")\n",
    "\n",
    "#Loading the face classifier\n",
    "face_cls = cv2.CascadeClassifier('haarcascade_frontalface_default.xml')\n",
    "\n",
    "#Accessing the default webcam\n",
    "source = cv2.VideoCapture(0)\n",
    "\n",
    "#Creating a dictionary of labels\n",
    "labels_dict = {0 : 'Wearing Mask', 1 : 'Not Wearing Mask'}\n",
    "\n",
    "#Creating a dictionary of colors (green and blue)\n",
    "color_dict = {0 : (0,255,0), 1: (0,0,255)}"
   ]
  },
  {
   "cell_type": "code",
   "execution_count": null,
   "metadata": {},
   "outputs": [],
   "source": [
    "#Running indefinitely\n",
    "while(True):\n",
    "    \n",
    "    #Accessing the image from the webcam\n",
    "    ret, img = source.read()\n",
    "    \n",
    "    #Converting the image to grayscale\n",
    "    gray_img = cv2.cvtColor(img, cv2.COLOR_BGR2GRAY)\n",
    "    \n",
    "    #Detecting face in the image\n",
    "    faces = face_cls.detectMultiScale(gray_img, 1.3, 5)\n",
    "    \n",
    "    #Extracting the coordinates of the pixels of the face\n",
    "    for x, y, w, h in faces:\n",
    "        \n",
    "        #Defining the region of interest\n",
    "        face_img = gray_img[y:y+w, x:x+w]\n",
    "        \n",
    "        #Resizing the image to the size of the trained data\n",
    "        resized_img = cv2.resize(face_img, (100,100))\n",
    "        \n",
    "        #Normalizing the image\n",
    "        normalized_img = resized_img/255\n",
    "        \n",
    "        #Reshaping the image to indicate one grayscale image\n",
    "        reshaped_img = np.reshape(normalized_img, (1,100,100,1))\n",
    "        \n",
    "        #Predicting the result\n",
    "        result = model.predict(reshaped_img)\n",
    "        \n",
    "        #Extracting the label from the softmax probabilities\n",
    "        label = np.argmax(result, axis = 1)[0]\n",
    "        \n",
    "        #Constructing the bounding boxes\n",
    "        cv2.rectangle(img, (x,y), (x+w, y+h), color_dict[label], 2)\n",
    "        cv2.rectangle(img, (x, y-40), (x+w, y), color_dict[label], -1)\n",
    "        cv2.putText(img, text = labels_dict[label], org = (x,y-10), fontFace = cv2.FONT_HERSHEY_SIMPLEX, \n",
    "                    fontScale = 0.8, color = (255,255,255), thickness = 2)\n",
    "        \n",
    "    #Showing the live image\n",
    "    cv2.imshow(\"LIVE\", img)\n",
    "    \n",
    "    #Defining the wait time\n",
    "    key = cv2.waitKey(delay = 1)\n",
    "    \n",
    "    #Defining a key to close the video\n",
    "    if(key == 8):\n",
    "        \n",
    "        #Breaking the loop\n",
    "        break\n",
    "        \n",
    "#Destroying all windows\n",
    "cv2.destroyAllWindows()\n",
    "\n",
    "#Closing the webcam\n",
    "source.release()"
   ]
  }
 ],
 "metadata": {
  "kernelspec": {
   "display_name": "Python 3",
   "language": "python",
   "name": "python3"
  },
  "language_info": {
   "codemirror_mode": {
    "name": "ipython",
    "version": 3
   },
   "file_extension": ".py",
   "mimetype": "text/x-python",
   "name": "python",
   "nbconvert_exporter": "python",
   "pygments_lexer": "ipython3",
   "version": "3.7.6"
  }
 },
 "nbformat": 4,
 "nbformat_minor": 4
}
