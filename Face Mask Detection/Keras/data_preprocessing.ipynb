{
 "cells": [
  {
   "cell_type": "markdown",
   "metadata": {},
   "source": [
    "### Data Preprocessing"
   ]
  },
  {
   "cell_type": "code",
   "execution_count": 1,
   "metadata": {},
   "outputs": [
    {
     "name": "stderr",
     "output_type": "stream",
     "text": [
      "Using TensorFlow backend.\n"
     ]
    }
   ],
   "source": [
    "#Importing the required libraries\n",
    "import numpy as np\n",
    "import pandas as pd\n",
    "import matplotlib.pyplot as plt\n",
    "import cv2\n",
    "import os\n",
    "import glob\n",
    "from keras.utils import to_categorical"
   ]
  },
  {
   "cell_type": "code",
   "execution_count": 2,
   "metadata": {},
   "outputs": [],
   "source": [
    "#Changing the directory\n",
    "os.chdir(\"C:/Users/Siddhesh/Desktop/Siddhesh/Projects/Face Mask Detection/Project/Data\")"
   ]
  },
  {
   "cell_type": "code",
   "execution_count": 3,
   "metadata": {},
   "outputs": [],
   "source": [
    "#Specifying the file paths\n",
    "train_path = \"train\"\n",
    "val_path = \"val\"\n",
    "test_path = \"test\""
   ]
  },
  {
   "cell_type": "code",
   "execution_count": 4,
   "metadata": {},
   "outputs": [],
   "source": [
    "#Creating a function to preprocess images\n",
    "def preprocess(img_path):\n",
    "    \n",
    "    #Reading the image\n",
    "    img = cv2.imread(img_path)\n",
    "    \n",
    "    #Resizing the image\n",
    "    img = cv2.resize(img, (100, 100))\n",
    "    \n",
    "    #Converting the image to grayscale\n",
    "    gray_img = cv2.cvtColor(img, cv2.COLOR_BGR2GRAY)\n",
    "    \n",
    "    #Normalizing the image\n",
    "    gray_img = gray_img/255\n",
    "    \n",
    "    #Returning the normalized image\n",
    "    return gray_img"
   ]
  },
  {
   "cell_type": "code",
   "execution_count": 5,
   "metadata": {},
   "outputs": [],
   "source": [
    "#Creating a function to retrieve data\n",
    "def get_data(path):\n",
    "    \n",
    "    #Creating empty arrays to store the data and labels    \n",
    "    data = []\n",
    "    labels = []\n",
    "    \n",
    "    #Trying the operation\n",
    "    try:\n",
    "\n",
    "        #Iterating through the images\n",
    "        for i in os.listdir(path):\n",
    "            for j in glob.glob(path + \"/\" + i):\n",
    "                for k in glob.glob(j + \"/*.jpg\"):\n",
    "\n",
    "                    #Adding the images and labels to the respective arrays\n",
    "                    data.append(preprocess(k))\n",
    "                    labels.append(i)\n",
    "                    \n",
    "    #Handling the exception\n",
    "    except Exception as e:\n",
    "        \n",
    "        print(\"Unable to preprocess current image!\", e)\n",
    "        \n",
    "    #Returning the data and labels\n",
    "    return np.array(data), np.array(labels)\n",
    "\n",
    "#Creating a function to reshape data\n",
    "def reshape_data(data):\n",
    "    \n",
    "    #Retrieving the shape of the data\n",
    "    shape = data.shape\n",
    "    \n",
    "    #Reshaping the data\n",
    "    data = data.reshape((shape[0], shape[1], shape[2], 1))\n",
    "    \n",
    "    #Returning the data\n",
    "    return data\n",
    "\n",
    "#Creating a function to map labels to values\n",
    "def label_map(labels):\n",
    "\n",
    "    #Creating an empty array\n",
    "    arr = np.zeros(shape = (len(labels), ))\n",
    "\n",
    "    #Finding the unique labels\n",
    "    unique_labels = np.unique(labels)\n",
    "\n",
    "    #Iterating through the unique labels\n",
    "    for u_index in range(0, len(unique_labels)):\n",
    "\n",
    "        #Iterating through the labels\n",
    "        for l_index in range(0, len(labels)):\n",
    "\n",
    "            #Checking whether label is alien\n",
    "            if(labels[l_index] == unique_labels[u_index]):\n",
    "                arr[l_index] = u_index\n",
    "\n",
    "    #Returning the new labels\n",
    "    return arr\n",
    "\n",
    "#Creating a function to perform one-hot-encoding\n",
    "def encode(labels, num_classes):\n",
    "    \n",
    "    #Mapping the labels to numbers\n",
    "    labels = label_map(labels)\n",
    "    \n",
    "    #Encoding the labels\n",
    "    encoded_labels = to_categorical(labels, num_classes = num_classes)\n",
    "    \n",
    "    #Returning the encoded labels\n",
    "    return encoded_labels"
   ]
  },
  {
   "cell_type": "code",
   "execution_count": 6,
   "metadata": {},
   "outputs": [],
   "source": [
    "#Retrieving the data\n",
    "train_data, train_labels = get_data(path = train_path)\n",
    "val_data, val_labels = get_data(path = val_path)\n",
    "test_data, test_labels = get_data(path = test_path)"
   ]
  },
  {
   "cell_type": "code",
   "execution_count": 7,
   "metadata": {},
   "outputs": [],
   "source": [
    "#Reshaping the data\n",
    "train_data = reshape_data(train_data)\n",
    "val_data = reshape_data(val_data)\n",
    "test_data = reshape_data(test_data)\n",
    "\n",
    "#Performing one hot encoding on labels\n",
    "train_labels = encode(train_labels, num_classes = 2)\n",
    "val_labels = encode(val_labels, num_classes = 2)\n",
    "test_labels = encode(test_labels, num_classes = 2)"
   ]
  },
  {
   "cell_type": "code",
   "execution_count": 8,
   "metadata": {},
   "outputs": [],
   "source": [
    "#Saving the data\n",
    "np.save(\"train_data\", train_data)\n",
    "np.save(\"validation_data\", val_data)\n",
    "np.save(\"test_data\", test_data)\n",
    "\n",
    "#Saving the labels\n",
    "np.save(\"train_labels\", train_labels)\n",
    "np.save(\"validation_labels\", val_labels)\n",
    "np.save(\"test_labels\", test_labels)"
   ]
  }
 ],
 "metadata": {
  "kernelspec": {
   "display_name": "Python 3",
   "language": "python",
   "name": "python3"
  },
  "language_info": {
   "codemirror_mode": {
    "name": "ipython",
    "version": 3
   },
   "file_extension": ".py",
   "mimetype": "text/x-python",
   "name": "python",
   "nbconvert_exporter": "python",
   "pygments_lexer": "ipython3",
   "version": "3.7.6"
  }
 },
 "nbformat": 4,
 "nbformat_minor": 4
}
